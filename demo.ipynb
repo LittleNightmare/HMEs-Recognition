{
 "cells": [
  {
   "cell_type": "markdown",
   "source": [
    "# Demo of the HMEs-Recognition\n",
    "\n",
    "Assume that you are using Google Colab, and you have already cloned the repository."
   ],
   "metadata": {
    "collapsed": false
   },
   "id": "57e04c397ec8d1ba"
  },
  {
   "cell_type": "markdown",
   "source": [
    "## Preparation\n",
    "\n",
    "Download the [dataset](https://www.kaggle.com/datasets/jungomi/chrome-png) and put it in the `data` folder."
   ],
   "metadata": {
    "collapsed": false
   },
   "id": "ff01f2a5b6d538f8"
  },
  {
   "cell_type": "markdown",
   "source": [
    "### Data"
   ],
   "metadata": {
    "collapsed": false
   },
   "id": "a2884f51e6f786ed"
  },
  {
   "cell_type": "code",
   "execution_count": null,
   "id": "initial_id",
   "metadata": {
    "collapsed": true
   },
   "outputs": [],
   "source": [
    "! pip install -q kaggle\n",
    "import os\n",
    "\n",
    "if not os.path.isfile(os.path.expanduser('~/.kaggle/kaggle.json')):\n",
    "    from google.colab import files\n",
    "\n",
    "    print(\"Upload kaggle.json here\")\n",
    "    files.upload()\n",
    "\n",
    "if not os.path.isfile('data/token.tsv'):\n",
    "    !mkdir ~ /.kaggle\n",
    "    !mv./kaggle.json ~ /.kaggle/\n",
    "    !chmod 600 ~ /.kaggle/kaggle.json\n",
    "\n",
    "    dataset_name = 'jungomi/chrome-png'\n",
    "    zip_name = dataset_name.split('/')[-1]\n",
    "\n",
    "    !kaggle datasets download -d {dataset_name}\n",
    "    !unzip -q./ {zip_name}.zip -d."
   ]
  },
  {
   "cell_type": "markdown",
   "source": [
    "### Install lightning"
   ],
   "metadata": {
    "collapsed": false
   },
   "id": "11007c57cfc95e38"
  },
  {
   "cell_type": "code",
   "execution_count": null,
   "outputs": [],
   "source": [
    "# install lightning\n",
    "!pip install -q lightning"
   ],
   "metadata": {
    "collapsed": false
   },
   "id": "24942af340ba5ac4"
  },
  {
   "cell_type": "markdown",
   "source": [
    "### Download the checkpoint\n",
    "\n",
    "You could download the checkpoint from [Google Drive](https://drive.google.com/drive/folders/1g6LnaHuJkPI2z5X7Qh4Ms2HdZpSvlSxG?usp=drive_link) and put it in the `checkpoints` folder."
   ],
   "metadata": {
    "collapsed": false
   },
   "id": "a81fef94e7944fed"
  },
  {
   "cell_type": "markdown",
   "source": [
    "## Training"
   ],
   "metadata": {
    "collapsed": false
   },
   "id": "4d0dc1fe66839795"
  },
  {
   "cell_type": "code",
   "execution_count": null,
   "outputs": [],
   "source": [
    "# parameters\n",
    "DATA_DIR = 'data'\n",
    "BATCH_SIZE = 32\n",
    "NUM_WORKERS = 4\n",
    "LR = 0.1\n",
    "MAX_EPOCHS = 100\n",
    "ENCODER_OUT_DIM = 512\n",
    "\n",
    "CHECKPOINT_PATH = 'checkpoints/best-checkpoint-exp-rate.ckpt'"
   ],
   "metadata": {
    "collapsed": false
   },
   "id": "fd9f92002c771d7f"
  },
  {
   "cell_type": "code",
   "execution_count": null,
   "outputs": [],
   "source": [
    "import lightning as l\n",
    "from callbacks import checkpoint_callback_exp_rate_3, checkpoint_callback_val_loss, early_stop_callback_loss\n",
    "from dataset.data_module import MathExpressionDataModule\n",
    "from model.HMERecognizer import HMERecognizer\n",
    "\n",
    "data_module = MathExpressionDataModule(data_dir=DATA_DIR, tokens_file='tokens.tsv', batch_size=BATCH_SIZE,\n",
    "                                       num_workers=NUM_WORKERS)\n",
    "\n",
    "model = HMERecognizer(token_to_id=data_module.token_to_id, lr=LR, encoder_out_dim=ENCODER_OUT_DIM,\n",
    "                      vocab_size=len(data_module.token_to_id), batch_size=BATCH_SIZE)\n",
    "\n",
    "callback = list()\n",
    "callback.append(checkpoint_callback_exp_rate_3)\n",
    "callback.append(checkpoint_callback_val_loss)\n",
    "# callback.append(early_stop_callback_exp_rate)\n",
    "callback.append(early_stop_callback_loss)\n",
    "\n",
    "data_module.setup('train')\n",
    "# trainer = l.Trainer(max_epochs=MAX_EPOCHS, callbacks=callback)\n",
    "trainer = l.Trainer(max_epochs=MAX_EPOCHS, callbacks=callback, fast_dev_run=True)\n",
    "trainer.fit(model, data_module)"
   ],
   "metadata": {
    "collapsed": false
   },
   "id": "c5ad61fade9ea85b"
  },
  {
   "cell_type": "markdown",
   "source": [
    "## Testing"
   ],
   "metadata": {
    "collapsed": false
   },
   "id": "85923f51eb226618"
  },
  {
   "cell_type": "code",
   "execution_count": null,
   "outputs": [],
   "source": [
    "trainer = l.Trainer(fast_dev_run=True)\n",
    "data_module.setup('test')\n",
    "model = HMERecognizer.load_from_checkpoint(checkpoint_path=CHECKPOINT_PATH, token_to_id=data_module.token_to_id,\n",
    "                                           lr=LR, encoder_out_dim=ENCODER_OUT_DIM,\n",
    "                                           vocab_size=len(data_module.token_to_id), batch_size=BATCH_SIZE)\n",
    "model.eval()\n",
    "\n",
    "results = {}\n",
    "for year, dataloader in data_module.test_dataloader().items():\n",
    "    test_dataloader = dataloader\n",
    "\n",
    "    # Run the test set through the trained model\n",
    "    results[year] = trainer.test(model, dataloaders=test_dataloader)"
   ],
   "metadata": {
    "collapsed": false
   },
   "id": "a377493264f3a546"
  },
  {
   "cell_type": "markdown",
   "source": [
    "## Visualization\n",
    "\n",
    "If you also want to see the log during training, you may download the log file `lightning_logs/version_0` from [Google Drive](https://drive.google.com/drive/folders/1g6LnaHuJkPI2z5X7Qh4Ms2HdZpSvlSxG?usp=drive_link) and put it in the `lightning_logs` folder. If there is `version_0` in `lightning_logs` folder, you could delete it or rename it."
   ],
   "metadata": {
    "collapsed": false
   },
   "id": "abe84b0c335c37bb"
  },
  {
   "cell_type": "code",
   "execution_count": null,
   "outputs": [],
   "source": [
    "%reload_ext tensorboard\n",
    "%tensorboard --logdir=lightning_logs/"
   ],
   "metadata": {
    "collapsed": false
   },
   "id": "1fbbec3e26d8bff0"
  },
  {
   "cell_type": "markdown",
   "source": [],
   "metadata": {
    "collapsed": false
   },
   "id": "cb1938391abf0e2e"
  }
 ],
 "metadata": {
  "kernelspec": {
   "display_name": "Python 3",
   "language": "python",
   "name": "python3"
  },
  "language_info": {
   "codemirror_mode": {
    "name": "ipython",
    "version": 2
   },
   "file_extension": ".py",
   "mimetype": "text/x-python",
   "name": "python",
   "nbconvert_exporter": "python",
   "pygments_lexer": "ipython2",
   "version": "2.7.6"
  }
 },
 "nbformat": 4,
 "nbformat_minor": 5
}
